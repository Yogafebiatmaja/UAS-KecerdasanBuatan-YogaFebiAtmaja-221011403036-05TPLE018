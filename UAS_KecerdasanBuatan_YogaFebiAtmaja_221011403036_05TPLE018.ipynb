{
  "nbformat": 4,
  "nbformat_minor": 0,
  "metadata": {
    "colab": {
      "provenance": [],
      "authorship_tag": "ABX9TyMUD1nsAWuhGFV6P2Pr6gXw",
      "include_colab_link": true
    },
    "kernelspec": {
      "name": "python3",
      "display_name": "Python 3"
    },
    "language_info": {
      "name": "python"
    }
  },
  "cells": [
    {
      "cell_type": "markdown",
      "metadata": {
        "id": "view-in-github",
        "colab_type": "text"
      },
      "source": [
        "<a href=\"https://colab.research.google.com/github/Yogafebiatmaja/UAS-KecerdasanBuatan-YogaFebiAtmaja-221011403036-05TPLE018/blob/main/UAS_KecerdasanBuatan_YogaFebiAtmaja_221011403036_05TPLE018.ipynb\" target=\"_parent\"><img src=\"https://colab.research.google.com/assets/colab-badge.svg\" alt=\"Open In Colab\"/></a>"
      ]
    },
    {
      "cell_type": "code",
      "execution_count": 1,
      "metadata": {
        "colab": {
          "base_uri": "https://localhost:8080/"
        },
        "id": "FRw_JJWth-Xm",
        "outputId": "97074b45-2347-45cb-8ec0-2b2f79d3e3b7"
      },
      "outputs": [
        {
          "output_type": "stream",
          "name": "stdout",
          "text": [
            "Collecting scikit-fuzzy\n",
            "  Downloading scikit_fuzzy-0.5.0-py2.py3-none-any.whl.metadata (2.6 kB)\n",
            "Downloading scikit_fuzzy-0.5.0-py2.py3-none-any.whl (920 kB)\n",
            "\u001b[?25l   \u001b[90m━━━━━━━━━━━━━━━━━━━━━━━━━━━━━━━━━━━━━━━━\u001b[0m \u001b[32m0.0/920.8 kB\u001b[0m \u001b[31m?\u001b[0m eta \u001b[36m-:--:--\u001b[0m\r\u001b[2K   \u001b[91m━━━━━━━━\u001b[0m\u001b[90m╺\u001b[0m\u001b[90m━━━━━━━━━━━━━━━━━━━━━━━━━━━━━━━\u001b[0m \u001b[32m184.3/920.8 kB\u001b[0m \u001b[31m5.3 MB/s\u001b[0m eta \u001b[36m0:00:01\u001b[0m\r\u001b[2K   \u001b[91m━━━━━━━━━━━━━━━━━━━━━━━━━━━━━━━━━━━━━━━\u001b[0m\u001b[91m╸\u001b[0m \u001b[32m911.4/920.8 kB\u001b[0m \u001b[31m15.3 MB/s\u001b[0m eta \u001b[36m0:00:01\u001b[0m\r\u001b[2K   \u001b[90m━━━━━━━━━━━━━━━━━━━━━━━━━━━━━━━━━━━━━━━━\u001b[0m \u001b[32m920.8/920.8 kB\u001b[0m \u001b[31m11.9 MB/s\u001b[0m eta \u001b[36m0:00:00\u001b[0m\n",
            "\u001b[?25hInstalling collected packages: scikit-fuzzy\n",
            "Successfully installed scikit-fuzzy-0.5.0\n"
          ]
        }
      ],
      "source": [
        "!pip install scikit-fuzzy"
      ]
    },
    {
      "cell_type": "code",
      "source": [
        "import numpy as np\n",
        "import skfuzzy as fuzz\n",
        "from skfuzzy import control as ctrl"
      ],
      "metadata": {
        "id": "w74mezxUi3Yl"
      },
      "execution_count": 2,
      "outputs": []
    },
    {
      "cell_type": "code",
      "source": [
        "# Membuat variabel input\n",
        "jumlah_tugas = ctrl.Antecedent(np.arange(0, 11, 1), 'jumlah_tugas')\n",
        "waktu_belajar = ctrl.Antecedent(np.arange(0, 13, 1), 'waktu_belajar')\n",
        "waktu_tidur = ctrl.Antecedent(np.arange(0, 13, 1), 'waktu_tidur')\n",
        "tingkat_stres = ctrl.Consequent(np.arange(0, 101, 1), 'tingkat_stres')"
      ],
      "metadata": {
        "id": "KYEBgk6Wi5yh"
      },
      "execution_count": 3,
      "outputs": []
    },
    {
      "cell_type": "code",
      "source": [
        "# Fungsi keanggotaan untuk jumlah tugas\n",
        "jumlah_tugas['sedikit'] = fuzz.trimf(jumlah_tugas.universe, [0, 0, 5])\n",
        "jumlah_tugas['sedang'] = fuzz.trimf(jumlah_tugas.universe, [3, 5, 7])\n",
        "jumlah_tugas['banyak'] = fuzz.trimf(jumlah_tugas.universe, [5, 10, 10])\n",
        "\n",
        "# Fungsi keanggotaan untuk waktu belajar\n",
        "waktu_belajar['pendek'] = fuzz.trimf(waktu_belajar.universe, [0, 0, 4])\n",
        "waktu_belajar['normal'] = fuzz.trimf(waktu_belajar.universe, [2, 5, 8])\n",
        "waktu_belajar['panjang'] = fuzz.trimf(waktu_belajar.universe, [6, 12, 12])\n",
        "\n",
        "# Fungsi keanggotaan untuk waktu tidur\n",
        "waktu_tidur['kurang'] = fuzz.trimf(waktu_tidur.universe, [0, 0, 6])\n",
        "waktu_tidur['cukup'] = fuzz.trimf(waktu_tidur.universe, [5, 7, 9])\n",
        "waktu_tidur['lebih'] = fuzz.trimf(waktu_tidur.universe, [8, 12, 12])\n",
        "\n",
        "# Fungsi keanggotaan untuk tingkat stres\n",
        "tingkat_stres['rendah'] = fuzz.trimf(tingkat_stres.universe, [0, 0, 40])\n",
        "tingkat_stres['sedang'] = fuzz.trimf(tingkat_stres.universe, [30, 50, 70])\n",
        "tingkat_stres['tinggi'] = fuzz.trimf(tingkat_stres.universe, [60, 100, 100])"
      ],
      "metadata": {
        "id": "lO5zn3-Ui7-k"
      },
      "execution_count": 4,
      "outputs": []
    },
    {
      "cell_type": "code",
      "source": [
        "# Mendefinisikan aturan fuzzy\n",
        "aturan1 = ctrl.Rule(jumlah_tugas['sedikit'] & waktu_belajar['normal'] & waktu_tidur['cukup'], tingkat_stres['rendah'])\n",
        "aturan2 = ctrl.Rule(jumlah_tugas['banyak'] & waktu_belajar['panjang'] & waktu_tidur['kurang'], tingkat_stres['tinggi'])\n",
        "aturan3 = ctrl.Rule(jumlah_tugas['sedang'] & waktu_belajar['normal'] & waktu_tidur['cukup'], tingkat_stres['sedang'])\n",
        "aturan4 = ctrl.Rule(jumlah_tugas['banyak'] & waktu_belajar['pendek'] & waktu_tidur['kurang'], tingkat_stres['tinggi'])\n",
        "aturan5 = ctrl.Rule(jumlah_tugas['sedikit'] & waktu_belajar['pendek'] & waktu_tidur['lebih'], tingkat_stres['rendah'])\n",
        "aturan6 = ctrl.Rule(jumlah_tugas['sedang'] & waktu_belajar['panjang'] & waktu_tidur['kurang'], tingkat_stres['tinggi'])\n",
        "aturan7 = ctrl.Rule(jumlah_tugas['banyak'] & waktu_belajar['normal'] & waktu_tidur['cukup'], tingkat_stres['sedang'])\n",
        "aturan8 = ctrl.Rule(jumlah_tugas['sedikit'] & waktu_belajar['panjang'] & waktu_tidur['cukup'], tingkat_stres['sedang'])"
      ],
      "metadata": {
        "id": "Rah4YlufjHQ7"
      },
      "execution_count": 5,
      "outputs": []
    },
    {
      "cell_type": "code",
      "source": [
        "# Membuat dan mensimulasikan sistem kontrol fuzzy\n",
        "sistem_kontrol = ctrl.ControlSystem([aturan1, aturan2, aturan3, aturan4, aturan5, aturan6, aturan7, aturan8])\n",
        "simulasi = ctrl.ControlSystemSimulation(sistem_kontrol)\n",
        "\n",
        "mahasiswa = [\n",
        "    {\"nama\": \"Yoga Febi Atmaja\", \"nim\": \"221011403036\", \"jumlah_tugas\": 3, \"waktu_belajar\": 6, \"waktu_tidur\": 7},\n",
        "    {\"nama\": \"Ahmad Fauzi\", \"nim\": \"221011403240\", \"jumlah_tugas\": 5, \"waktu_belajar\": 5, \"waktu_tidur\": 7},\n",
        "    {\"nama\": \"Zein Albi Guawan\", \"nim\": \"221011403036\", \"jumlah_tugas\": 8, \"waktu_belajar\": 11, \"waktu_tidur\": 4}\n",
        "]\n",
        "\n",
        "def prediksi_stres(jml_tugas, jam_belajar, jam_tidur):\n",
        "    # Reset simulasi untuk setiap prediksi baru\n",
        "    simulasi.input['jumlah_tugas'] = jml_tugas\n",
        "    simulasi.input['waktu_belajar'] = jam_belajar\n",
        "    simulasi.input['waktu_tidur'] = jam_tidur\n",
        "\n",
        "    try:\n",
        "        simulasi.compute()\n",
        "        nilai_stres = simulasi.output['tingkat_stres']\n",
        "\n",
        "        # Interpretasi tingkat stres\n",
        "        if nilai_stres < 40:\n",
        "            kategori = \"Rendah\"\n",
        "        elif nilai_stres < 70:\n",
        "            kategori = \"Sedang\"\n",
        "        else:\n",
        "            kategori = \"Tinggi\"\n",
        "\n",
        "        return {\n",
        "            'status': 'success',\n",
        "            'nilai_stres': round(nilai_stres, 2),\n",
        "            'kategori': kategori\n",
        "        }\n",
        "    except Exception as e:\n",
        "        return {\n",
        "            'status': 'error',\n",
        "            'nilai_stres': 0,\n",
        "            'kategori': 'Error',\n",
        "            'pesan': f\"Error: Nilai input harus berada dalam rentang yang ditentukan - {str(e)}\"\n",
        "        }\n",
        "\n",
        "def prediksi_stres_mahasiswa():\n",
        "    print(\"\\nPrediksi Tingkat Stres Mahasiswa\")\n",
        "    print(\"=\" * 50)\n",
        "\n",
        "    for mhs in mahasiswa:\n",
        "        hasil = prediksi_stres(\n",
        "            mhs['jumlah_tugas'],\n",
        "            mhs['waktu_belajar'],\n",
        "            mhs['waktu_tidur']\n",
        "        )\n",
        "\n",
        "        print(f\"\\nNama: {mhs['nama']}\")\n",
        "        print(f\"NIM: {mhs['nim']}\")\n",
        "        print(f\"Jumlah Tugas: {mhs['jumlah_tugas']}\")\n",
        "        print(f\"Waktu Belajar: {mhs['waktu_belajar']} jam\")\n",
        "        print(f\"Waktu Tidur: {mhs['waktu_tidur']} jam\")\n",
        "        print(f\"Hasil Prediksi:\")\n",
        "\n",
        "        if hasil['status'] == 'success':\n",
        "            print(f\"- Nilai Stres: {hasil['nilai_stres']}\")\n",
        "            print(f\"- Kategori: {hasil['kategori']}\")\n",
        "        else:\n",
        "            print(f\"- Error: {hasil['pesan']}\")\n",
        "        print(\"-\" * 50)\n",
        "\n",
        "if __name__ == \"__main__\":\n",
        "    # Prediksi tingkat stres untuk semua mahasiswa\n",
        "    prediksi_stres_mahasiswa()"
      ],
      "metadata": {
        "colab": {
          "base_uri": "https://localhost:8080/"
        },
        "id": "8pnUnlVgjKm1",
        "outputId": "1a2b6833-696b-4fe7-cd9f-e726e6be719a"
      },
      "execution_count": 6,
      "outputs": [
        {
          "output_type": "stream",
          "name": "stdout",
          "text": [
            "\n",
            "Prediksi Tingkat Stres Mahasiswa\n",
            "==================================================\n",
            "\n",
            "Nama: Yoga Febi Atmaja\n",
            "NIM: 221011403036\n",
            "Jumlah Tugas: 3\n",
            "Waktu Belajar: 6 jam\n",
            "Waktu Tidur: 7 jam\n",
            "Hasil Prediksi:\n",
            "- Nilai Stres: 16.33\n",
            "- Kategori: Rendah\n",
            "--------------------------------------------------\n",
            "\n",
            "Nama: Ahmad Fauzi\n",
            "NIM: 221011403240\n",
            "Jumlah Tugas: 5\n",
            "Waktu Belajar: 5 jam\n",
            "Waktu Tidur: 7 jam\n",
            "Hasil Prediksi:\n",
            "- Nilai Stres: 50.0\n",
            "- Kategori: Sedang\n",
            "--------------------------------------------------\n",
            "\n",
            "Nama: Zein Albi Guawan\n",
            "NIM: 221011403036\n",
            "Jumlah Tugas: 8\n",
            "Waktu Belajar: 11 jam\n",
            "Waktu Tidur: 4 jam\n",
            "Hasil Prediksi:\n",
            "- Nilai Stres: 83.11\n",
            "- Kategori: Tinggi\n",
            "--------------------------------------------------\n"
          ]
        }
      ]
    }
  ]
}